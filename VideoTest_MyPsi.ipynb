{
  "nbformat": 4,
  "nbformat_minor": 0,
  "metadata": {
    "accelerator": "GPU",
    "colab": {
      "name": "VideoTest_MyPsi.ipynb",
      "provenance": [],
      "collapsed_sections": []
    },
    "kernelspec": {
      "display_name": "Python 3",
      "language": "python",
      "name": "python3"
    },
    "language_info": {
      "codemirror_mode": {
        "name": "ipython",
        "version": 3
      },
      "file_extension": ".py",
      "mimetype": "text/x-python",
      "name": "python",
      "nbconvert_exporter": "python",
      "pygments_lexer": "ipython3",
      "version": "3.8.8"
    }
  },
  "cells": [
    {
      "cell_type": "markdown",
      "metadata": {
        "id": "xXSAC4VPN695"
      },
      "source": [
        "#Direktori Dari G-drive, **Skip kalau ga pake Drive**"
      ]
    },
    {
      "cell_type": "code",
      "metadata": {
        "colab": {
          "base_uri": "https://localhost:8080/"
        },
        "id": "G2-6CuVb7T9Z",
        "outputId": "0a2fc5c0-7198-4890-d81e-b33e21b14cc2"
      },
      "source": [
        "from google.colab import drive\n",
        "drive.mount('/content/gdrive')"
      ],
      "execution_count": 1,
      "outputs": [
        {
          "output_type": "stream",
          "text": [
            "Mounted at /content/gdrive\n"
          ],
          "name": "stdout"
        }
      ]
    },
    {
      "cell_type": "code",
      "metadata": {
        "id": "DY2AmRl37Tvx"
      },
      "source": [
        "import os\n",
        "os.environ['KAGGLE_CONFIG_DIR'] = \"/content/gdrive/My Drive/Kaggle\"\n",
        "# /content/gdrive/My Drive/Kaggle is the path where kaggle.json is present in the Google Drive"
      ],
      "execution_count": 2,
      "outputs": []
    },
    {
      "cell_type": "code",
      "metadata": {
        "colab": {
          "base_uri": "https://localhost:8080/"
        },
        "id": "SQw4QfX37TZa",
        "outputId": "1c2f8ef2-6846-4eb2-cee8-57cbce408bf6"
      },
      "source": [
        "#changing the working directory\n",
        "%cd /content/gdrive/My Drive/Kaggle/Percobaan 6\n",
        "#Check the present working directory using pwd command"
      ],
      "execution_count": 3,
      "outputs": [
        {
          "output_type": "stream",
          "text": [
            "/content/gdrive/My Drive/Kaggle/Percobaan 6\n"
          ],
          "name": "stdout"
        }
      ]
    },
    {
      "cell_type": "markdown",
      "metadata": {
        "id": "v2p3d6XJONCu"
      },
      "source": [
        "#Load Data"
      ]
    },
    {
      "cell_type": "code",
      "metadata": {
        "id": "LzfeXGsbqzv_"
      },
      "source": [
        "import tensorflow as tf"
      ],
      "execution_count": 4,
      "outputs": []
    },
    {
      "cell_type": "code",
      "metadata": {
        "colab": {
          "base_uri": "https://localhost:8080/"
        },
        "id": "x7NS1VeCqzwA",
        "outputId": "d927f85a-d804-4ba3-e1d5-39620917c123"
      },
      "source": [
        "print(tf.__version__)"
      ],
      "execution_count": 5,
      "outputs": [
        {
          "output_type": "stream",
          "text": [
            "2.4.1\n"
          ],
          "name": "stdout"
        }
      ]
    },
    {
      "cell_type": "code",
      "metadata": {
        "id": "zBgl5_Q05z7b"
      },
      "source": [
        "# load and evaluate a saved model\n",
        "from numpy import loadtxt\n",
        "from keras.models import load_model\n",
        "import numpy as np\n",
        "import pandas as pd\n",
        "import matplotlib.pyplot as plt\n",
        "import random\n",
        "import tensorflow_hub as hub\n",
        "from sklearn.model_selection import train_test_split\n",
        "import cv2\n",
        "from keras.models import model_from_json\n",
        "from keras.preprocessing import image"
      ],
      "execution_count": 6,
      "outputs": []
    },
    {
      "cell_type": "code",
      "metadata": {
        "colab": {
          "base_uri": "https://localhost:8080/",
          "height": 35
        },
        "id": "buomVQWHqzwC",
        "outputId": "29ef66a4-c8c5-4bad-d9c1-e8dc8c9ecfe1"
      },
      "source": [
        "pwd"
      ],
      "execution_count": 7,
      "outputs": [
        {
          "output_type": "execute_result",
          "data": {
            "application/vnd.google.colaboratory.intrinsic+json": {
              "type": "string"
            },
            "text/plain": [
              "'/content/gdrive/My Drive/Kaggle/Percobaan 6'"
            ]
          },
          "metadata": {
            "tags": []
          },
          "execution_count": 7
        }
      ]
    },
    {
      "cell_type": "code",
      "metadata": {
        "id": "dG7wVrvc58-1"
      },
      "source": [
        "#load model\n",
        "model = model_from_json(open(\"fer.json\", \"r\").read())\n",
        "#load weights\n",
        "model.load_weights('fer.h5')"
      ],
      "execution_count": 8,
      "outputs": []
    },
    {
      "cell_type": "code",
      "metadata": {
        "colab": {
          "base_uri": "https://localhost:8080/"
        },
        "id": "XnQUVrNp6DLf",
        "outputId": "f0c78dfe-e417-4142-d2e8-61fef8f9e19a"
      },
      "source": [
        "# summarize model.\n",
        "model.summary()"
      ],
      "execution_count": 9,
      "outputs": [
        {
          "output_type": "stream",
          "text": [
            "Model: \"sequential\"\n",
            "_________________________________________________________________\n",
            "Layer (type)                 Output Shape              Param #   \n",
            "=================================================================\n",
            "conv2d (Conv2D)              (None, 47, 47, 32)        160       \n",
            "_________________________________________________________________\n",
            "batch_normalization (BatchNo (None, 47, 47, 32)        128       \n",
            "_________________________________________________________________\n",
            "max_pooling2d (MaxPooling2D) (None, 23, 23, 32)        0         \n",
            "_________________________________________________________________\n",
            "dropout (Dropout)            (None, 23, 23, 32)        0         \n",
            "_________________________________________________________________\n",
            "conv2d_1 (Conv2D)            (None, 22, 22, 64)        8256      \n",
            "_________________________________________________________________\n",
            "batch_normalization_1 (Batch (None, 22, 22, 64)        256       \n",
            "_________________________________________________________________\n",
            "max_pooling2d_1 (MaxPooling2 (None, 21, 21, 64)        0         \n",
            "_________________________________________________________________\n",
            "dropout_1 (Dropout)          (None, 21, 21, 64)        0         \n",
            "_________________________________________________________________\n",
            "conv2d_2 (Conv2D)            (None, 20, 20, 128)       32896     \n",
            "_________________________________________________________________\n",
            "batch_normalization_2 (Batch (None, 20, 20, 128)       512       \n",
            "_________________________________________________________________\n",
            "max_pooling2d_2 (MaxPooling2 (None, 19, 19, 128)       0         \n",
            "_________________________________________________________________\n",
            "dropout_2 (Dropout)          (None, 19, 19, 128)       0         \n",
            "_________________________________________________________________\n",
            "conv2d_3 (Conv2D)            (None, 18, 18, 256)       131328    \n",
            "_________________________________________________________________\n",
            "batch_normalization_3 (Batch (None, 18, 18, 256)       1024      \n",
            "_________________________________________________________________\n",
            "max_pooling2d_3 (MaxPooling2 (None, 17, 17, 256)       0         \n",
            "_________________________________________________________________\n",
            "dropout_3 (Dropout)          (None, 17, 17, 256)       0         \n",
            "_________________________________________________________________\n",
            "flatten (Flatten)            (None, 73984)             0         \n",
            "_________________________________________________________________\n",
            "dense (Dense)                (None, 256)               18940160  \n",
            "_________________________________________________________________\n",
            "batch_normalization_4 (Batch (None, 256)               1024      \n",
            "_________________________________________________________________\n",
            "dropout_4 (Dropout)          (None, 256)               0         \n",
            "_________________________________________________________________\n",
            "dense_1 (Dense)              (None, 512)               131584    \n",
            "_________________________________________________________________\n",
            "batch_normalization_5 (Batch (None, 512)               2048      \n",
            "_________________________________________________________________\n",
            "dropout_5 (Dropout)          (None, 512)               0         \n",
            "_________________________________________________________________\n",
            "dense_2 (Dense)              (None, 7)                 3591      \n",
            "=================================================================\n",
            "Total params: 19,252,967\n",
            "Trainable params: 19,250,471\n",
            "Non-trainable params: 2,496\n",
            "_________________________________________________________________\n"
          ],
          "name": "stdout"
        }
      ]
    },
    {
      "cell_type": "code",
      "metadata": {
        "id": "aYmVCG3R6FeX"
      },
      "source": [
        "# load dataset\n",
        "#Importing Data from CSV file\n",
        "fer2013=pd.read_csv(\"fer2013.csv\")\n",
        "labels=fer2013.iloc[:,[0]].values\n",
        "pixels=fer2013['pixels']"
      ],
      "execution_count": 10,
      "outputs": []
    },
    {
      "cell_type": "code",
      "metadata": {
        "id": "pGE8U3V_6tKP"
      },
      "source": [
        "#Facial Expressions\n",
        "Ekspresi={0:\"Marah\",1:\"Jijik\",2:\"Takut\",3:\"Senang\",4:\"Sedih\",5:\"Terkejut\",6:\"Netral\"}\n",
        "from keras.utils import to_categorical \n",
        "labels = to_categorical(labels,len(Ekspresi))"
      ],
      "execution_count": 11,
      "outputs": []
    },
    {
      "cell_type": "code",
      "metadata": {
        "id": "tvlN5HDg6weJ"
      },
      "source": [
        "#converting pixels to Gray Scale images of 48X48 \n",
        "image = np.array([np.fromstring(pixel, dtype=int, sep=\" \")for pixel in pixels])\n",
        "image = image/255.0\n",
        "image = image.reshape(image.shape[0],48,48,1).astype('float32')"
      ],
      "execution_count": 12,
      "outputs": []
    },
    {
      "cell_type": "code",
      "metadata": {
        "id": "73pdQdnK618Q"
      },
      "source": [
        "#splitting data into training and test data\n",
        "train_features,test_features,train_labels,test_labels = train_test_split(image,labels,test_size=0.2,random_state=0)"
      ],
      "execution_count": 16,
      "outputs": []
    },
    {
      "cell_type": "code",
      "metadata": {
        "id": "6YBv7dWxTJn6"
      },
      "source": [
        "model.compile(optimizer='adam', loss='categorical_crossentropy', metrics=['accuracy'])"
      ],
      "execution_count": 18,
      "outputs": []
    },
    {
      "cell_type": "code",
      "metadata": {
        "colab": {
          "base_uri": "https://localhost:8080/"
        },
        "id": "km9qp3u9Sdfy",
        "outputId": "f69e8f26-9ddc-44a3-bcce-d23be3fc2feb"
      },
      "source": [
        "# evaluate the model\n",
        "score = model.evaluate(train_features,train_labels, verbose=0)\n",
        "print(\"%s: %.2f%%\" % (model.metrics_names[1], score[1]*100))"
      ],
      "execution_count": 19,
      "outputs": [
        {
          "output_type": "stream",
          "text": [
            "accuracy: 99.40%\n"
          ],
          "name": "stdout"
        }
      ]
    },
    {
      "cell_type": "markdown",
      "metadata": {
        "id": "W6TNr-iLN1S8"
      },
      "source": [
        "#Test Vidio"
      ]
    },
    {
      "cell_type": "code",
      "metadata": {
        "id": "FqVDqg_-OorV"
      },
      "source": [
        "import cv2\n",
        "def make_prediction(pred):\n",
        "    pred = cv2.resize(pred,(48,48))\n",
        "    pred = pred/255.0\n",
        "    pred = np.array(pred).reshape(-1,48,48,1)\n",
        "    predict = np.argmax(model.predict(pred),axis = 1)\n",
        "    return predict[0]"
      ],
      "execution_count": null,
      "outputs": []
    },
    {
      "cell_type": "code",
      "metadata": {
        "id": "5oHZ5fbWO1aS"
      },
      "source": [
        "def Emotion_in_video():\n",
        "    face_Emotion = cv2.CascadeClassifier(\"haarcascade_frontalface_default.xml\")\n",
        "    capture=cv2.VideoCapture(0)\n",
        "    while True:\n",
        "        ret,img=capture.read()  \n",
        "        gray = cv2.cvtColor(img,cv2.COLOR_BGR2GRAY)\n",
        "        face = face_Emotion.detectMultiScale(gray,1.3,5)\n",
        "        \n",
        "        for (x,y,w,h) in face:\n",
        "            sub_face = gray[y:y+h, x:x+w]\n",
        "            cv2.rectangle(img,(x,y),(x+w,y+h),(255,0,0),2)\n",
        "            res = make_prediction(sub_face)\n",
        "            font = cv2.FONT_HERSHEY_SIMPLEX\n",
        "            cv2.putText(img,str(Ekspresi[res]),(x,y-5),font,0.5,(205,200,50),1,cv2.LINE_AA)\n",
        "        cv2.imshow('img',img)\n",
        "        if cv2.waitKey(1) & 0xFF ==ord('q'):\n",
        "            break\n",
        "    cap.release()\n",
        "    cv2.destroyAllWindows()"
      ],
      "execution_count": null,
      "outputs": []
    },
    {
      "cell_type": "code",
      "metadata": {
        "id": "a2O3gMlSO39a"
      },
      "source": [
        "Emotion_in_video()"
      ],
      "execution_count": null,
      "outputs": []
    }
  ]
}