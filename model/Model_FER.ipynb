{
  "nbformat": 4,
  "nbformat_minor": 0,
  "metadata": {
    "kernelspec": {
      "display_name": "Python 3",
      "language": "python",
      "name": "python3"
    },
    "language_info": {
      "codemirror_mode": {
        "name": "ipython",
        "version": 3
      },
      "file_extension": ".py",
      "mimetype": "text/x-python",
      "name": "python",
      "nbconvert_exporter": "python",
      "pygments_lexer": "ipython3",
      "version": "3.7.6"
    },
    "colab": {
      "name": "Model_FER.ipynb",
      "provenance": [],
      "collapsed_sections": []
    },
    "accelerator": "GPU"
  },
  "cells": [
    {
      "cell_type": "markdown",
      "metadata": {
        "id": "EVbwyYtAWNv_"
      },
      "source": [
        "#Direktori Dari G-drive, **Skip kalau ga pake Drive**"
      ]
    },
    {
      "cell_type": "code",
      "metadata": {
        "colab": {
          "base_uri": "https://localhost:8080/"
        },
        "id": "1F_hq0JrxWmR",
        "outputId": "f8069f76-d261-4683-ae11-87d043278519"
      },
      "source": [
        "from google.colab import drive\n",
        "drive.mount('/content/gdrive')"
      ],
      "execution_count": null,
      "outputs": [
        {
          "output_type": "stream",
          "text": [
            "Mounted at /content/gdrive\n"
          ],
          "name": "stdout"
        }
      ]
    },
    {
      "cell_type": "code",
      "metadata": {
        "id": "3e_NEI4FxXVa"
      },
      "source": [
        "import os\n",
        "os.environ['KAGGLE_CONFIG_DIR'] = \"/content/gdrive/My Drive/Kaggle\"\n",
        "# /content/gdrive/My Drive/Kaggle is the path where kaggle.json is present in the Google Drive"
      ],
      "execution_count": null,
      "outputs": []
    },
    {
      "cell_type": "code",
      "metadata": {
        "colab": {
          "base_uri": "https://localhost:8080/"
        },
        "id": "UQ37hWRzxaSj",
        "outputId": "f247109a-70da-4360-8c49-45acb4ca1bc3"
      },
      "source": [
        "#changing the working directory\n",
        "%cd /content/gdrive/My Drive/Kaggle\n",
        "#Check the present working directory using pwd command"
      ],
      "execution_count": null,
      "outputs": [
        {
          "output_type": "stream",
          "text": [
            "/content/gdrive/My Drive/Kaggle\n"
          ],
          "name": "stdout"
        }
      ]
    },
    {
      "cell_type": "markdown",
      "metadata": {
        "id": "BdzMGhqtWwIv"
      },
      "source": [
        "#Ambil Data dari Kaggle"
      ]
    },
    {
      "cell_type": "code",
      "metadata": {
        "id": "CUZmX1gJxc3k"
      },
      "source": [
        "!kaggle datasets download -d deadskull7/fer2013"
      ],
      "execution_count": null,
      "outputs": []
    },
    {
      "cell_type": "code",
      "metadata": {
        "colab": {
          "base_uri": "https://localhost:8080/"
        },
        "id": "aRXnAajrxfow",
        "outputId": "a8f4e6d7-b515-4cfd-d9ba-4616cb163f20"
      },
      "source": [
        "#unzipping the zip files and deleting the zip files\n",
        "!unzip \\*.zip  && rm *.zip"
      ],
      "execution_count": null,
      "outputs": [
        {
          "output_type": "stream",
          "text": [
            "Archive:  fer2013.zip\n",
            "  inflating: fer2013.csv             \n"
          ],
          "name": "stdout"
        }
      ]
    },
    {
      "cell_type": "markdown",
      "metadata": {
        "id": "JMHAbv6yW0nt"
      },
      "source": [
        "#Membuat Model Prediksi"
      ]
    },
    {
      "cell_type": "code",
      "metadata": {
        "id": "7Ee79D5-wrPT"
      },
      "source": [
        "import tensorflow as tf\n",
        "import keras \n",
        "from keras.models import Sequential\n",
        "from keras.layers import Dense,Flatten,Dropout\n",
        "from keras.layers.convolutional import Conv2D,MaxPooling2D\n",
        "from keras.layers.normalization import BatchNormalization\n",
        "from keras.preprocessing.image import ImageDataGenerator ,load_img\n"
      ],
      "execution_count": null,
      "outputs": []
    },
    {
      "cell_type": "code",
      "metadata": {
        "id": "sEGJaeyBwrPj"
      },
      "source": [
        "import numpy as np\n",
        "import matplotlib.pyplot as plt\n",
        "import pandas as pd\n",
        "from sklearn.model_selection import train_test_split\n",
        "import random\n"
      ],
      "execution_count": null,
      "outputs": []
    },
    {
      "cell_type": "code",
      "metadata": {
        "id": "2dG6RGj1wrPl"
      },
      "source": [
        "#Importing Data from CSV file\n",
        "fer2013=pd.read_csv(\"fer2013.csv\")"
      ],
      "execution_count": null,
      "outputs": []
    },
    {
      "cell_type": "code",
      "metadata": {
        "id": "Hs4tFOZgwrPo"
      },
      "source": [
        "labels=fer2013.iloc[:,[0]].values"
      ],
      "execution_count": null,
      "outputs": []
    },
    {
      "cell_type": "code",
      "metadata": {
        "id": "cJwjnGJowrPp"
      },
      "source": [
        "pixels=fer2013['pixels']"
      ],
      "execution_count": null,
      "outputs": []
    },
    {
      "cell_type": "code",
      "metadata": {
        "id": "YHT4RZEAwrPq"
      },
      "source": [
        "#Facial Expressions\n",
        "Ekspresi={0:\"Marah\",1:\"Jijik\",2:\"Takut\",3:\"Senang\",4:\"Sedih\",5:\"Terkejut\",6:\"Netral\"}\n",
        "from keras.utils import to_categorical \n",
        "labels = to_categorical(labels,len(Ekspresi))"
      ],
      "execution_count": null,
      "outputs": []
    },
    {
      "cell_type": "code",
      "metadata": {
        "id": "wvjDf4InwrPs"
      },
      "source": [
        "#converting pixels to Gray Scale images of 48X48 \n",
        "image = np.array([np.fromstring(pixel, dtype=int, sep=\" \")for pixel in pixels])\n",
        "image = image/255.0\n",
        "image = image.reshape(image.shape[0],48,48,1).astype('float32')"
      ],
      "execution_count": null,
      "outputs": []
    },
    {
      "cell_type": "code",
      "metadata": {
        "colab": {
          "base_uri": "https://localhost:8080/",
          "height": 285
        },
        "id": "VYCvr79zwrPt",
        "outputId": "452d8d31-a024-4751-be60-b0ffa758029b"
      },
      "source": [
        "plt.imshow(image[0][:,:,0])\n",
        "Ekspresi[labels[0][0]]"
      ],
      "execution_count": null,
      "outputs": [
        {
          "output_type": "execute_result",
          "data": {
            "application/vnd.google.colaboratory.intrinsic+json": {
              "type": "string"
            },
            "text/plain": [
              "'Jijik'"
            ]
          },
          "metadata": {
            "tags": []
          },
          "execution_count": 12
        },
        {
          "output_type": "display_data",
          "data": {
            "image/png": "[encoded data removed]",
            "text/plain": [
              "<Figure size 432x288 with 1 Axes>"
            ]
          },
          "metadata": {
            "tags": [],
            "needs_background": "light"
          }
        }
      ]
    },
    {
      "cell_type": "code",
      "metadata": {
        "id": "IuDC87bqwrPt"
      },
      "source": [
        "#splitting data into training and test data\n",
        "train_features,test_features,train_labels,test_labels = train_test_split(image,labels,test_size=0.2,random_state=0)"
      ],
      "execution_count": null,
      "outputs": []
    },
    {
      "cell_type": "code",
      "metadata": {
        "colab": {
          "base_uri": "https://localhost:8080/"
        },
        "id": "ibSdH_B4wrPu",
        "outputId": "e04f9663-89bd-4e6c-d3d0-9f17bec3d17b"
      },
      "source": [
        "train_labels"
      ],
      "execution_count": null,
      "outputs": [
        {
          "output_type": "execute_result",
          "data": {
            "text/plain": [
              "array([[0., 0., 1., ..., 0., 0., 0.],\n",
              "       [0., 0., 0., ..., 1., 0., 0.],\n",
              "       [0., 0., 0., ..., 1., 0., 0.],\n",
              "       ...,\n",
              "       [0., 0., 0., ..., 0., 0., 0.],\n",
              "       [0., 0., 0., ..., 1., 0., 0.],\n",
              "       [0., 1., 0., ..., 0., 0., 0.]], dtype=float32)"
            ]
          },
          "metadata": {
            "tags": []
          },
          "execution_count": 14
        }
      ]
    },
    {
      "cell_type": "code",
      "metadata": {
        "id": "WCIjWL7lwrPv"
      },
      "source": [
        "def cnn_model(classes):\n",
        "    model = Sequential()\n",
        "    model.add(Conv2D(32,kernel_size=(3,3),strides=(1,1),activation='relu',input_shape=(48,48,1)))\n",
        "    model.add(BatchNormalization())\n",
        "    model.add(MaxPooling2D(pool_size=(2,2),strides=(2,2)))\n",
        "    model.add(Dropout(0.25))\n",
        "    \n",
        "    model.add(Conv2D(filters=64,kernel_size=(3,3),strides=(1,1),activation='relu'))\n",
        "    model.add(BatchNormalization())\n",
        "    model.add(MaxPooling2D(pool_size=(2,2),strides=(1,1)))\n",
        "    model.add(Dropout(0.25))#to prevent neural network from overfitting\n",
        "    \n",
        "    model.add(Conv2D(filters=64,kernel_size=(3,3),strides=(1,1),activation='relu'))\n",
        "    model.add(BatchNormalization())\n",
        "    model.add(MaxPooling2D(pool_size=(2,2),strides=(1,1)))\n",
        "    model.add(Dropout(0.25))\n",
        "    \n",
        "    model.add(Conv2D(filters=128,kernel_size=(3,3),strides=(1,1),activation='relu'))\n",
        "    model.add(BatchNormalization())\n",
        "    model.add(MaxPooling2D(pool_size=(2,2),strides=(1,1)))\n",
        "    model.add(Dropout(0.25))\n",
        "    \n",
        "    model.add(Flatten())\n",
        "    \n",
        "    model.add(Dense(256,activation='relu'))\n",
        "    model.add(BatchNormalization())\n",
        "    model.add(Dropout(0.25))\n",
        "    \n",
        "    model.add(Dense(512,activation='relu'))\n",
        "    model.add(BatchNormalization())\n",
        "    model.add(Dropout(0.25))\n",
        "    \n",
        "    model.add(Dense(classes,activation='softmax'))\n",
        "    \n",
        "    \n",
        "    model.compile(optimizer='Adam', loss='categorical_crossentropy', metrics=['accuracy'])\n",
        "    \n",
        "    return model\n"
      ],
      "execution_count": null,
      "outputs": []
    },
    {
      "cell_type": "code",
      "metadata": {
        "colab": {
          "base_uri": "https://localhost:8080/"
        },
        "id": "3kyFkwCYwrPw",
        "outputId": "0d136b98-f17c-45d2-8797-962db1eca5ec"
      },
      "source": [
        "classes=7\n",
        "model = cnn_model(classes)\n",
        "model.summary()"
      ],
      "execution_count": null,
      "outputs": [
        {
          "output_type": "stream",
          "text": [
            "Model: \"sequential\"\n",
            "_________________________________________________________________\n",
            "Layer (type)                 Output Shape              Param #   \n",
            "=================================================================\n",
            "conv2d (Conv2D)              (None, 46, 46, 32)        320       \n",
            "_________________________________________________________________\n",
            "batch_normalization (BatchNo (None, 46, 46, 32)        128       \n",
            "_________________________________________________________________\n",
            "max_pooling2d (MaxPooling2D) (None, 23, 23, 32)        0         \n",
            "_________________________________________________________________\n",
            "dropout (Dropout)            (None, 23, 23, 32)        0         \n",
            "_________________________________________________________________\n",
            "conv2d_1 (Conv2D)            (None, 21, 21, 64)        18496     \n",
            "_________________________________________________________________\n",
            "batch_normalization_1 (Batch (None, 21, 21, 64)        256       \n",
            "_________________________________________________________________\n",
            "max_pooling2d_1 (MaxPooling2 (None, 20, 20, 64)        0         \n",
            "_________________________________________________________________\n",
            "dropout_1 (Dropout)          (None, 20, 20, 64)        0         \n",
            "_________________________________________________________________\n",
            "conv2d_2 (Conv2D)            (None, 18, 18, 64)        36928     \n",
            "_________________________________________________________________\n",
            "batch_normalization_2 (Batch (None, 18, 18, 64)        256       \n",
            "_________________________________________________________________\n",
            "max_pooling2d_2 (MaxPooling2 (None, 17, 17, 64)        0         \n",
            "_________________________________________________________________\n",
            "dropout_2 (Dropout)          (None, 17, 17, 64)        0         \n",
            "_________________________________________________________________\n",
            "conv2d_3 (Conv2D)            (None, 15, 15, 128)       73856     \n",
            "_________________________________________________________________\n",
            "batch_normalization_3 (Batch (None, 15, 15, 128)       512       \n",
            "_________________________________________________________________\n",
            "max_pooling2d_3 (MaxPooling2 (None, 14, 14, 128)       0         \n",
            "_________________________________________________________________\n",
            "dropout_3 (Dropout)          (None, 14, 14, 128)       0         \n",
            "_________________________________________________________________\n",
            "flatten (Flatten)            (None, 25088)             0         \n",
            "_________________________________________________________________\n",
            "dense (Dense)                (None, 256)               6422784   \n",
            "_________________________________________________________________\n",
            "batch_normalization_4 (Batch (None, 256)               1024      \n",
            "_________________________________________________________________\n",
            "dropout_4 (Dropout)          (None, 256)               0         \n",
            "_________________________________________________________________\n",
            "dense_1 (Dense)              (None, 512)               131584    \n",
            "_________________________________________________________________\n",
            "batch_normalization_5 (Batch (None, 512)               2048      \n",
            "_________________________________________________________________\n",
            "dropout_5 (Dropout)          (None, 512)               0         \n",
            "_________________________________________________________________\n",
            "dense_2 (Dense)              (None, 7)                 3591      \n",
            "=================================================================\n",
            "Total params: 6,691,783\n",
            "Trainable params: 6,689,671\n",
            "Non-trainable params: 2,112\n",
            "_________________________________________________________________\n"
          ],
          "name": "stdout"
        }
      ]
    },
    {
      "cell_type": "code",
      "metadata": {
        "colab": {
          "base_uri": "https://localhost:8080/"
        },
        "id": "Kgry9pQWwrPx",
        "outputId": "1a0c8219-196f-4cb1-c0d9-c3bc8c7132b7"
      },
      "source": [
        "#train the CNN \n",
        "model.fit(train_features,train_labels,batch_size=105,epochs=40,verbose=2)"
      ],
      "execution_count": null,
      "outputs": [
        {
          "output_type": "stream",
          "text": [
            "Epoch 1/40\n",
            "274/274 - 38s - loss: 1.8891 - accuracy: 0.3261\n",
            "Epoch 2/40\n",
            "274/274 - 5s - loss: 1.4820 - accuracy: 0.4415\n",
            "Epoch 3/40\n",
            "274/274 - 5s - loss: 1.3263 - accuracy: 0.4941\n",
            "Epoch 4/40\n",
            "274/274 - 5s - loss: 1.2179 - accuracy: 0.5370\n",
            "Epoch 5/40\n",
            "274/274 - 5s - loss: 1.1492 - accuracy: 0.5651\n",
            "Epoch 6/40\n",
            "274/274 - 5s - loss: 1.0860 - accuracy: 0.5913\n",
            "Epoch 7/40\n",
            "274/274 - 5s - loss: 1.0323 - accuracy: 0.6117\n",
            "Epoch 8/40\n",
            "274/274 - 5s - loss: 0.9909 - accuracy: 0.6266\n",
            "Epoch 9/40\n",
            "274/274 - 5s - loss: 0.9330 - accuracy: 0.6505\n",
            "Epoch 10/40\n",
            "274/274 - 5s - loss: 0.8784 - accuracy: 0.6702\n",
            "Epoch 11/40\n",
            "274/274 - 5s - loss: 0.8128 - accuracy: 0.6994\n",
            "Epoch 12/40\n",
            "274/274 - 5s - loss: 0.7659 - accuracy: 0.7165\n",
            "Epoch 13/40\n",
            "274/274 - 5s - loss: 0.7093 - accuracy: 0.7351\n",
            "Epoch 14/40\n",
            "274/274 - 5s - loss: 0.6558 - accuracy: 0.7592\n",
            "Epoch 15/40\n",
            "274/274 - 5s - loss: 0.6020 - accuracy: 0.7799\n",
            "Epoch 16/40\n",
            "274/274 - 5s - loss: 0.5433 - accuracy: 0.8000\n",
            "Epoch 17/40\n",
            "274/274 - 5s - loss: 0.5048 - accuracy: 0.8143\n",
            "Epoch 18/40\n",
            "274/274 - 5s - loss: 0.4547 - accuracy: 0.8343\n",
            "Epoch 19/40\n",
            "274/274 - 5s - loss: 0.4196 - accuracy: 0.8461\n",
            "Epoch 20/40\n",
            "274/274 - 5s - loss: 0.4061 - accuracy: 0.8540\n",
            "Epoch 21/40\n",
            "274/274 - 5s - loss: 0.3750 - accuracy: 0.8632\n",
            "Epoch 22/40\n",
            "274/274 - 5s - loss: 0.3406 - accuracy: 0.8742\n",
            "Epoch 23/40\n",
            "274/274 - 5s - loss: 0.3168 - accuracy: 0.8859\n",
            "Epoch 24/40\n",
            "274/274 - 5s - loss: 0.3111 - accuracy: 0.8873\n",
            "Epoch 25/40\n",
            "274/274 - 5s - loss: 0.2798 - accuracy: 0.8972\n",
            "Epoch 26/40\n",
            "274/274 - 5s - loss: 0.2742 - accuracy: 0.9024\n",
            "Epoch 27/40\n",
            "274/274 - 5s - loss: 0.2561 - accuracy: 0.9075\n",
            "Epoch 28/40\n",
            "274/274 - 5s - loss: 0.2436 - accuracy: 0.9132\n",
            "Epoch 29/40\n",
            "274/274 - 5s - loss: 0.2388 - accuracy: 0.9148\n",
            "Epoch 30/40\n",
            "274/274 - 5s - loss: 0.2271 - accuracy: 0.9198\n",
            "Epoch 31/40\n",
            "274/274 - 5s - loss: 0.2206 - accuracy: 0.9227\n",
            "Epoch 32/40\n",
            "274/274 - 5s - loss: 0.2143 - accuracy: 0.9242\n",
            "Epoch 33/40\n",
            "274/274 - 5s - loss: 0.2026 - accuracy: 0.9280\n",
            "Epoch 34/40\n",
            "274/274 - 5s - loss: 0.1925 - accuracy: 0.9312\n",
            "Epoch 35/40\n",
            "274/274 - 5s - loss: 0.1951 - accuracy: 0.9314\n",
            "Epoch 36/40\n",
            "274/274 - 5s - loss: 0.1868 - accuracy: 0.9355\n",
            "Epoch 37/40\n",
            "274/274 - 5s - loss: 0.1840 - accuracy: 0.9358\n",
            "Epoch 38/40\n",
            "274/274 - 5s - loss: 0.1810 - accuracy: 0.9357\n",
            "Epoch 39/40\n",
            "274/274 - 5s - loss: 0.1718 - accuracy: 0.9385\n",
            "Epoch 40/40\n",
            "274/274 - 5s - loss: 0.1623 - accuracy: 0.9433\n"
          ],
          "name": "stdout"
        },
        {
          "output_type": "execute_result",
          "data": {
            "text/plain": [
              "<tensorflow.python.keras.callbacks.History at 0x7fcb6037b690>"
            ]
          },
          "metadata": {
            "tags": []
          },
          "execution_count": 17
        }
      ]
    },
    {
      "cell_type": "code",
      "metadata": {
        "id": "YUTM5X0DwrPy"
      },
      "source": [
        "#Saving the  model to  use it later on\n",
        "fer_json = model.to_json()\n",
        "with open(\"fer.json\", \"w\") as json_file:\n",
        "    json_file.write(fer_json)\n",
        "model.save_weights(\"fer.h5\")"
      ],
      "execution_count": null,
      "outputs": []
    }
  ]
}